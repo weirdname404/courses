{
 "cells": [
  {
   "cell_type": "code",
   "execution_count": 12,
   "metadata": {},
   "outputs": [
    {
     "name": "stdout",
     "output_type": "stream",
     "text": [
      "tests passed\n"
     ]
    }
   ],
   "source": [
    "import random as r\n",
    "\n",
    "\n",
    "def test(gcd, n_iter=100):\n",
    "    for _ in range(n_iter):\n",
    "        c = r.randint(0, 1024)\n",
    "        a = c * r.randint(0, 128)\n",
    "        b = c * r.randint(0, 128)\n",
    "        assert gcd(a, a) == gcd(a, 0) == a\n",
    "        assert gcd(b, b) == gcd(b, 0) == b\n",
    "        assert gcd(a, 1) == gcd(b, 1) == 1\n",
    "        d = gcd(a, b)\n",
    "        assert a % d == b % d\n",
    "\n",
    "    print('tests passed')\n",
    "\n",
    "        \n",
    "def naive_gcd(a, b):\n",
    "    assert a >= 0 and b >= 0\n",
    "    for d in reversed(range(1, max(a, b) + 1)):\n",
    "        if d == 0 or a % d == b % d == 0:\n",
    "            return d\n",
    "    return 0\n",
    "\n",
    "        \n",
    "def euclid_gcd(a, b):\n",
    "    while a and b:\n",
    "        if a >= b:\n",
    "            a %= b\n",
    "        else:\n",
    "            b %= a\n",
    "    return max(a, b)\n",
    "\n",
    "test(euclid_gcd)"
   ]
  },
  {
   "cell_type": "code",
   "execution_count": null,
   "metadata": {},
   "outputs": [],
   "source": [
    "def euclid_gcd(a, b):\n",
    "    while \n",
    "    "
   ]
  },
  {
   "cell_type": "code",
   "execution_count": null,
   "metadata": {},
   "outputs": [],
   "source": []
  }
 ],
 "metadata": {
  "kernelspec": {
   "display_name": "Python 3",
   "language": "python",
   "name": "python3"
  },
  "language_info": {
   "codemirror_mode": {
    "name": "ipython",
    "version": 3
   },
   "file_extension": ".py",
   "mimetype": "text/x-python",
   "name": "python",
   "nbconvert_exporter": "python",
   "pygments_lexer": "ipython3",
   "version": "3.7.1"
  }
 },
 "nbformat": 4,
 "nbformat_minor": 2
}
